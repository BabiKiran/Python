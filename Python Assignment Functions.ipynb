{
 "cells": [
  {
   "cell_type": "code",
   "execution_count": 1,
   "id": "ee1c2e7e",
   "metadata": {},
   "outputs": [],
   "source": [
    "# Write a Python Program(with class concepts) to find the area of the triangle using the below\n",
    "# formula.\n",
    "# area = (s*(s-a)*(s-b)*(s-c)) ** 0.5\n",
    "# Function to take the length of the sides of triangle from user should be defined in the parent\n",
    "# class and function to calculate the area should be defined in subclass."
   ]
  },
  {
   "cell_type": "code",
   "execution_count": 6,
   "id": "33dd12cc",
   "metadata": {},
   "outputs": [
    {
     "name": "stdout",
     "output_type": "stream",
     "text": [
      "Enter first side length: 4\n",
      "Enter second side length: 5\n",
      "Enter third side length: 6\n",
      "Area is 9.921567416492215\n"
     ]
    }
   ],
   "source": [
    "class TriangleSides:\n",
    "    def __init__(self):\n",
    "        self.a = 0\n",
    "        self.b = 0\n",
    "        self.c = 0\n",
    "\n",
    "    def sides_input(self):\n",
    "        self.a = float(input('Enter first side length: '))\n",
    "        self.b = float(input('Enter second side length: '))\n",
    "        self.c = float(input('Enter third side length: '))\n",
    "\n",
    "\n",
    "class AreaOfTriangle(TriangleSides):\n",
    "    def __init__(self):\n",
    "        super().__init__()\n",
    "\n",
    "    def areatriangle(self):\n",
    "        s = (self.a + self.b + self.c) / 2\n",
    "        area = (s * (s - self.a) * (s - self.b) * (s - self.c)) ** 0.5\n",
    "        return area\n",
    "\n",
    "\n",
    "if __name__ == '__main__':\n",
    "    triangle = AreaOfTriangle()\n",
    "    triangle.sides_input()\n",
    "    area = triangle.areatriangle()\n",
    "    print('Area is', area)"
   ]
  },
  {
   "cell_type": "code",
   "execution_count": 7,
   "id": "786dc468",
   "metadata": {},
   "outputs": [],
   "source": [
    "# Write a function filter_long_words() that takes a list of words and an integer n and returns\n",
    "# the list of words that are longer than n."
   ]
  },
  {
   "cell_type": "code",
   "execution_count": 8,
   "id": "66f43d88",
   "metadata": {},
   "outputs": [],
   "source": [
    "def filter_long_words(l_words,n):\n",
    "    longer = [word for word in l_words if len(word) > n ]\n",
    "    return longer"
   ]
  },
  {
   "cell_type": "code",
   "execution_count": 9,
   "id": "d6566380",
   "metadata": {},
   "outputs": [
    {
     "data": {
      "text/plain": [
       "['cde', 'erty']"
      ]
     },
     "execution_count": 9,
     "metadata": {},
     "output_type": "execute_result"
    }
   ],
   "source": [
    "filter_long_words([ 'ab','cde','erty'],2)"
   ]
  },
  {
   "cell_type": "code",
   "execution_count": 10,
   "id": "8b2d249a",
   "metadata": {},
   "outputs": [],
   "source": [
    "# Write a Python program using function concept that maps list of words into a list of integers\n",
    "# representing the lengths of the corresponding words.\n",
    "# Hint: If a list [ ab,cde,erty] is passed on to the python function output should come as [2,3,4]\n",
    "# Here 2,3 and 4 are the lengths of the words in the list."
   ]
  },
  {
   "cell_type": "code",
   "execution_count": 11,
   "id": "45f1ad79",
   "metadata": {},
   "outputs": [],
   "source": [
    "def len_list(list1):\n",
    "    solution = [len(word) for word in list1]\n",
    "    return solution"
   ]
  },
  {
   "cell_type": "code",
   "execution_count": 12,
   "id": "44ce4c61",
   "metadata": {},
   "outputs": [
    {
     "data": {
      "text/plain": [
       "[2, 3, 4]"
      ]
     },
     "execution_count": 12,
     "metadata": {},
     "output_type": "execute_result"
    }
   ],
   "source": [
    "len_list([ 'ab','cde','erty'])"
   ]
  },
  {
   "cell_type": "code",
   "execution_count": 13,
   "id": "627983c4",
   "metadata": {},
   "outputs": [],
   "source": [
    "# Write a Python function which takes a character (i.e. a string of length 1) and returns True if\n",
    "# it is a vowel, False otherwise."
   ]
  },
  {
   "cell_type": "code",
   "execution_count": 14,
   "id": "4a21f72d",
   "metadata": {},
   "outputs": [],
   "source": [
    "def vowels(character):\n",
    "    if character.lower() in ['a','e','i','o','u']:\n",
    "        return True\n",
    "    else:\n",
    "        return False"
   ]
  },
  {
   "cell_type": "code",
   "execution_count": 15,
   "id": "d5aaf335",
   "metadata": {},
   "outputs": [
    {
     "data": {
      "text/plain": [
       "True"
      ]
     },
     "execution_count": 15,
     "metadata": {},
     "output_type": "execute_result"
    }
   ],
   "source": [
    "vowels('A')"
   ]
  },
  {
   "cell_type": "code",
   "execution_count": 16,
   "id": "251a1ca1",
   "metadata": {},
   "outputs": [
    {
     "data": {
      "text/plain": [
       "False"
      ]
     },
     "execution_count": 16,
     "metadata": {},
     "output_type": "execute_result"
    }
   ],
   "source": [
    "vowels('b')"
   ]
  },
  {
   "cell_type": "code",
   "execution_count": null,
   "id": "84a6afa2",
   "metadata": {},
   "outputs": [],
   "source": []
  }
 ],
 "metadata": {
  "kernelspec": {
   "display_name": "Python 3 (ipykernel)",
   "language": "python",
   "name": "python3"
  },
  "language_info": {
   "codemirror_mode": {
    "name": "ipython",
    "version": 3
   },
   "file_extension": ".py",
   "mimetype": "text/x-python",
   "name": "python",
   "nbconvert_exporter": "python",
   "pygments_lexer": "ipython3",
   "version": "3.10.9"
  }
 },
 "nbformat": 4,
 "nbformat_minor": 5
}
